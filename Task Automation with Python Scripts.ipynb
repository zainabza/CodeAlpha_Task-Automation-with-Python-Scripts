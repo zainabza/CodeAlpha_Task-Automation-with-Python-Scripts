{
 "cells": [
  {
   "cell_type": "code",
   "execution_count": 25,
   "id": "45575fdd-5721-48d2-bb6d-3b794740c3d4",
   "metadata": {},
   "outputs": [
    {
     "name": "stdin",
     "output_type": "stream",
     "text": [
      "Enter the folder path you want to organize:  C:\\Users\\Dell\\Pictures\\MY\n"
     ]
    },
    {
     "name": "stdout",
     "output_type": "stream",
     "text": [
      "Files organized successfully!\n"
     ]
    }
   ],
   "source": [
    "import os\n",
    "import shutil\n",
    "\n",
    "def organize_files(folder_path):\n",
    "    \"\"\"\n",
    "    Organizes files into folders based on their types (extensions).\n",
    "    \"\"\"\n",
    "    # categories for file types\n",
    "    file_categories = {\n",
    "        \"Images\": [\".jpg\", \".jpeg\", \".png\", \".gif\", \".bmp\", \".tiff\"],\n",
    "        \"Documents\": [\".pdf\", \".docx\", \".txt\", \".xlsx\", \".pptx\", \".csv\"],\n",
    "        \"Videos\": [\".mp4\", \".mkv\", \".mov\", \".avi\", \".flv\"],\n",
    "        \"Music\": [\".mp3\", \".wav\", \".aac\", \".flac\"],\n",
    "        \"Archives\": [\".zip\", \".rar\", \".tar\", \".gz\"],\n",
    "        \"Others\": []  # For files that don't match the above\n",
    "    }\n",
    "\n",
    "    # Create folders for each category\n",
    "    for category in file_categories:\n",
    "        category_folder = os.path.join(folder_path, category)\n",
    "        if not os.path.exists(category_folder):\n",
    "            os.makedirs(category_folder)\n",
    "\n",
    "    # Loop through all files in the folder\n",
    "    for file_name in os.listdir(folder_path):\n",
    "        file_path = os.path.join(folder_path, file_name)\n",
    "\n",
    "        # Only process files (ignore folders and hidden files)\n",
    "        if os.path.isfile(file_path) and not file_name.startswith('.'):\n",
    "            # Get the file extension (e.g., .jpg, .txt)\n",
    "            _, extension = os.path.splitext(file_name)\n",
    "            extension = extension.lower()  # Handle case sensitivity\n",
    "\n",
    "            # Find the right folder for the file\n",
    "            moved = False\n",
    "            for category, extensions in file_categories.items():\n",
    "                if extension in extensions:\n",
    "                    destination_folder = os.path.join(folder_path, category)\n",
    "                    try:\n",
    "                        shutil.move(file_path, os.path.join(destination_folder, file_name))\n",
    "                        moved = True\n",
    "                        break\n",
    "                    except shutil.Error as e:\n",
    "                        print(f\"Error moving {file_name}: {e}\")\n",
    "                        moved = True  # Skip this file to avoid infinite loops\n",
    "                        break\n",
    "\n",
    "            # If the file doesn't match any category, move it to \"Others\"\n",
    "            if not moved:\n",
    "                try:\n",
    "                    shutil.move(file_path, os.path.join(folder_path, \"Others\", file_name))\n",
    "                except shutil.Error as e:\n",
    "                    print(f\"Error moving {file_name}: {e}\")\n",
    "\n",
    "    print(\"Files organized successfully!\")\n",
    "\n",
    "# Ask the user for the folder to organize\n",
    "if __name__ == \"__main__\":\n",
    "    folder_to_organize = input(\"Enter the folder path you want to organize: \").strip()\n",
    "    if os.path.exists(folder_to_organize):\n",
    "        organize_files(folder_to_organize)\n",
    "    else:\n",
    "        print(\"That folder doesn't exist! Please check the path and try again.\")"
   ]
  },
  {
   "cell_type": "code",
   "execution_count": null,
   "id": "b784e82b-a38b-4dd0-b402-a2c3876dd248",
   "metadata": {},
   "outputs": [],
   "source": []
  }
 ],
 "metadata": {
  "kernelspec": {
   "display_name": "Python 3 (ipykernel)",
   "language": "python",
   "name": "python3"
  },
  "language_info": {
   "codemirror_mode": {
    "name": "ipython",
    "version": 3
   },
   "file_extension": ".py",
   "mimetype": "text/x-python",
   "name": "python",
   "nbconvert_exporter": "python",
   "pygments_lexer": "ipython3",
   "version": "3.12.3"
  }
 },
 "nbformat": 4,
 "nbformat_minor": 5
}
